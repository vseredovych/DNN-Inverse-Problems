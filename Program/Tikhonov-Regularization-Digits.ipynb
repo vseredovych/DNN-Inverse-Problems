{
 "cells": [
  {
   "cell_type": "code",
   "execution_count": 1,
   "metadata": {},
   "outputs": [],
   "source": [
    "import numpy as np\n",
    "import pandas as pd\n",
    "import scipy.signal\n",
    "\n",
    "from scipy import misc\n",
    "from numpy import linalg as LA\n",
    "\n",
    "from sklearn.model_selection import train_test_split\n",
    "from sklearn.metrics import accuracy_score\n",
    "\n",
    "from utils import avgn_attack\n",
    "from utils import convolve2D\n",
    "from utils import (\n",
    "    forward_differences_second,\n",
    "    backward_differences,\n",
    "    forward_differences\n",
    "    \n",
    ")\n",
    "\n",
    "import matplotlib.pyplot as plt\n",
    "%matplotlib inline"
   ]
  },
  {
   "cell_type": "code",
   "execution_count": 2,
   "metadata": {},
   "outputs": [
    {
     "name": "stdout",
     "output_type": "stream",
     "text": [
      "Dataset: X=(42000, 784), y=(42000, 1)\n"
     ]
    }
   ],
   "source": [
    "filename_test = \"./data/digit-recognizer/test.csv\"\n",
    "filename_train = \"./data/digit-recognizer/train.csv\"\n",
    "\n",
    "df_train = pd.read_csv(filename_train, delimiter=',')\n",
    "df_test = pd.read_csv(filename_test, delimiter=',')\n",
    "\n",
    "X = df_train.loc[:, df_train.columns != \"label\"]\n",
    "y = df_train.loc[:, df_train.columns == \"label\"]\n",
    "X = X.to_numpy()\n",
    "y = y.to_numpy()\n",
    "print('Dataset: X={}, y={}'.format(X.shape, y.shape))"
   ]
  },
  {
   "cell_type": "code",
   "execution_count": 3,
   "metadata": {},
   "outputs": [
    {
     "name": "stdout",
     "output_type": "stream",
     "text": [
      "Training set: X=(33600, 784), y=(33600, 1)\n",
      "Test set: X=(8400, 784), y=(8400, 1)\n"
     ]
    }
   ],
   "source": [
    "X_train, X_test, y_train, y_test = train_test_split(X, y, test_size = 0.2, shuffle = True, stratify = y)\n",
    "\n",
    "print('Training set: X={}, y={}'.format(X_train.shape, y_train.shape))\n",
    "print('Test set: X={}, y={}'.format(X_test.shape, y_test.shape))"
   ]
  },
  {
   "cell_type": "code",
   "execution_count": 4,
   "metadata": {},
   "outputs": [
    {
     "data": {
      "text/plain": [
       "(33600, 784)"
      ]
     },
     "execution_count": 4,
     "metadata": {},
     "output_type": "execute_result"
    }
   ],
   "source": [
    "X_train.shape"
   ]
  },
  {
   "cell_type": "code",
   "execution_count": 5,
   "metadata": {},
   "outputs": [],
   "source": [
    "sample = X_train[0, :].reshape(-1, 1) / 255\n",
    "sample = sample.reshape(28, 28)"
   ]
  },
  {
   "cell_type": "code",
   "execution_count": 6,
   "metadata": {},
   "outputs": [
    {
     "data": {
      "image/png": "[encoded data removed]",
      "text/plain": [
       "<Figure size 432x288 with 1 Axes>"
      ]
     },
     "metadata": {
      "needs_background": "light"
     },
     "output_type": "display_data"
    }
   ],
   "source": [
    "plt.imshow(sample, \"gray\")\n",
    "plt.show()"
   ]
  },
  {
   "cell_type": "code",
   "execution_count": 7,
   "metadata": {},
   "outputs": [],
   "source": [
    "noisy_sample = avgn_attack(sample, std=0.3, mean=0)\n",
    "\n",
    "#image_filter = 1/25.* np.ones([5, 5])\n",
    "#noisy_sample = scipy.signal.convolve2d(noisy_sample, image_filter)"
   ]
  },
  {
   "cell_type": "code",
   "execution_count": 8,
   "metadata": {},
   "outputs": [
    {
     "data": {
      "image/png": "[encoded data removed]",
      "text/plain": [
       "<Figure size 432x288 with 1 Axes>"
      ]
     },
     "metadata": {
      "needs_background": "light"
     },
     "output_type": "display_data"
    }
   ],
   "source": [
    "plt.imshow(noisy_sample, \"gray\")\n",
    "plt.show()"
   ]
  },
  {
   "cell_type": "markdown",
   "metadata": {},
   "source": []
  },
  {
   "cell_type": "code",
   "execution_count": 9,
   "metadata": {},
   "outputs": [],
   "source": [
    "import numpy as np\n",
    "from scipy import optimize\n",
    "from scipy import misc\n",
    "\n",
    "# Original implementation\n",
    "# https://github.com/danoan/image-processing/blob/master/denoise.py\n",
    "\n",
    "class TotalGradient:\n",
    "    def __init__(self, image):\n",
    "        fd = forward_differences(image)\n",
    "        self.gradX = fd[0]\n",
    "        self.gradY = fd[1]\n",
    "\n",
    "        fd2 = forward_differences_second(image)\n",
    "        self.grad2X = fd2[0]\n",
    "        self.grad2Y = fd2[1]\n",
    "\n",
    "    def norm(self):\n",
    "        return self.gradX**2 + self.gradY**2\n",
    "\n",
    "class Tikhonov:\n",
    "    def __init__(self, image, alpha):\n",
    "        self.image = image\n",
    "        self.alpha = alpha\n",
    "\n",
    "        self.shape = self.image.shape\n",
    "        self.size = self.image.size\n",
    "\n",
    "    def jacobian(self, x):\n",
    "        _x = x.reshape(self.shape)\n",
    "        TG = TotalGradient(_x)\n",
    "\n",
    "        S = self.alpha * (TG.grad2X + TG.grad2Y)\n",
    "        return (_x - self.image - S).reshape(self.size,)\n",
    "\n",
    "    def tikhonov(self, x):\n",
    "        _x = x.reshape( self.shape )\n",
    "        TG = TotalGradient(_x)\n",
    "\n",
    "        # arg min_x || A(x) - y ||^2 + r(x)\n",
    "        # r(x) - log prior\n",
    "        # y - noisy image\n",
    "        # A(x) - reconstructed image        \n",
    "        v = 0.5*(LA.norm(_x - self.image)**2 + self.alpha*np.sum(TG.norm()))\n",
    "        return v\n",
    "\n",
    "def denoise_image(input_image, alpha, max_it, print_output=False):\n",
    "    T = Tikhonov(input_image, alpha)\n",
    "    solution = optimize.minimize(\n",
    "        lambda x: T.tikhonov(x),\n",
    "        np.zeros(T.image.size,),\n",
    "        jac=lambda x: T.jacobian(x),\n",
    "        method=\"CG\",\n",
    "        options={\n",
    "            \"maxiter\":max_it, \n",
    "            \"disp\":print_output\n",
    "        }\n",
    "    )\n",
    "\n",
    "    x = solution[\"x\"].reshape(T.shape)\n",
    "    return x"
   ]
  },
  {
   "cell_type": "code",
   "execution_count": 10,
   "metadata": {},
   "outputs": [
    {
     "name": "stdout",
     "output_type": "stream",
     "text": [
      "Warning: Desired error not necessarily achieved due to precision loss.\n",
      "         Current function value: 18.212919\n",
      "         Iterations: 8\n",
      "         Function evaluations: 81\n",
      "         Gradient evaluations: 69\n",
      "Original to denoised norm:  5.41451523610961\n",
      "Original to noised norm:  6.51241023297815\n"
     ]
    }
   ],
   "source": [
    "denoised_sample = denoise_image(noisy_sample, 0.7, 100, print_output=True)\n",
    "\n",
    "print(\"Original to denoised norm: \", LA.norm(sample - denoised_sample))\n",
    "print(\"Original to noised norm: \", LA.norm(sample - noisy_sample))"
   ]
  },
  {
   "cell_type": "markdown",
   "metadata": {},
   "source": [
    "#### Noisy image"
   ]
  },
  {
   "cell_type": "code",
   "execution_count": 11,
   "metadata": {},
   "outputs": [
    {
     "data": {
      "text/plain": [
       "<matplotlib.image.AxesImage at 0x1274f4a60>"
      ]
     },
     "execution_count": 11,
     "metadata": {},
     "output_type": "execute_result"
    },
    {
     "data": {
      "image/png": "[encoded data removed]",
      "text/plain": [
       "<Figure size 432x288 with 1 Axes>"
      ]
     },
     "metadata": {
      "needs_background": "light"
     },
     "output_type": "display_data"
    }
   ],
   "source": [
    "plt.imshow(noisy_sample, 'gray')"
   ]
  },
  {
   "cell_type": "markdown",
   "metadata": {},
   "source": [
    "#### Denoised image"
   ]
  },
  {
   "cell_type": "code",
   "execution_count": 12,
   "metadata": {},
   "outputs": [
    {
     "data": {
      "text/plain": [
       "<matplotlib.image.AxesImage at 0x1275965b0>"
      ]
     },
     "execution_count": 12,
     "metadata": {},
     "output_type": "execute_result"
    },
    {
     "data": {
      "image/png": "[encoded data removed]",
      "text/plain": [
       "<Figure size 432x288 with 1 Axes>"
      ]
     },
     "metadata": {
      "needs_background": "light"
     },
     "output_type": "display_data"
    }
   ],
   "source": [
    "plt.imshow(denoised_sample, 'gray')"
   ]
  }
 ],
 "metadata": {
  "kernelspec": {
   "display_name": "Python 3",
   "language": "python",
   "name": "python3"
  },
  "language_info": {
   "codemirror_mode": {
    "name": "ipython",
    "version": 3
   },
   "file_extension": ".py",
   "mimetype": "text/x-python",
   "name": "python",
   "nbconvert_exporter": "python",
   "pygments_lexer": "ipython3",
   "version": "3.8.2"
  }
 },
 "nbformat": 4,
 "nbformat_minor": 4
}
