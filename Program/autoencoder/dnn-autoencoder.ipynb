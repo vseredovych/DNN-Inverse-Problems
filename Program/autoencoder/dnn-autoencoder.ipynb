{
 "cells": [
  {
   "cell_type": "code",
   "execution_count": 1,
   "metadata": {},
   "outputs": [],
   "source": [
    "import numpy as np\n",
    "import pandas as pd\n",
    "import matplotlib.pyplot as plt\n",
    "\n",
    "from sklearn.model_selection import train_test_split\n",
    "from autoencoder.neuralnet import NeuralNetwork\n",
    "\n",
    "# from utils import avgn_attack\n",
    "\n",
    "%matplotlib inline"
   ]
  },
  {
   "cell_type": "code",
   "execution_count": 2,
   "metadata": {},
   "outputs": [],
   "source": [
    "from autoencoder.layers import (\n",
    "  LinearLayer,\n",
    "  SigmoidLayer,\n",
    "  TanhLayer,\n",
    "  ReluLayer,\n",
    "  MSEOutputLayer\n",
    ")                    "
   ]
  },
  {
   "cell_type": "code",
   "execution_count": 3,
   "metadata": {},
   "outputs": [
    {
     "name": "stdout",
     "output_type": "stream",
     "text": [
      "Dataset: X=(42000, 784), y=(42000, 1)\n"
     ]
    }
   ],
   "source": [
    "filename_test = \"./data/digit-recognizer/test.csv\"\n",
    "filename_train = \"./data/digit-recognizer/train.csv\"\n",
    "\n",
    "df_train = pd.read_csv(filename_train, delimiter=',')\n",
    "df_test = pd.read_csv(filename_test, delimiter=',')\n",
    "\n",
    "X = df_train.loc[:, df_train.columns != \"label\"]\n",
    "y = df_train.loc[:, df_train.columns == \"label\"]\n",
    "X = X.to_numpy()\n",
    "y = y.to_numpy()\n",
    "print('Dataset: X={}, y={}'.format(X.shape, y.shape))"
   ]
  },
  {
   "cell_type": "code",
   "execution_count": 4,
   "metadata": {},
   "outputs": [
    {
     "name": "stdout",
     "output_type": "stream",
     "text": [
      "Training set: X=(33600, 784), y=(33600, 784)\n",
      "Test set: X=(8400, 784), y=(8400, 784)\n"
     ]
    }
   ],
   "source": [
    "X_train, X_test, _, _ = train_test_split(X, y, test_size = 0.2, shuffle = True, stratify = y)\n",
    "\n",
    "print('Training set: X={}, y={}'.format(X_train.shape, X_train.shape))\n",
    "print('Test set: X={}, y={}'.format(X_test.shape, X_test.shape))"
   ]
  },
  {
   "cell_type": "code",
   "execution_count": 5,
   "metadata": {},
   "outputs": [],
   "source": [
    "X_train = X_train / 255\n",
    "X_test = X_test / 255"
   ]
  },
  {
   "cell_type": "code",
   "execution_count": 6,
   "metadata": {},
   "outputs": [
    {
     "name": "stdout",
     "output_type": "stream",
     "text": [
      "Iteration: 0; Train loss: 0.10453554618342974; Validation loss: 0.10457557853251134;\n",
      "Iteration: 10; Train loss: 0.06693116495199695; Validation loss: 0.06696810741367183;\n",
      "Iteration: 20; Train loss: 0.06476973519443202; Validation loss: 0.06480618843368109;\n",
      "Iteration: 30; Train loss: 0.0640404978174841; Validation loss: 0.06406527233846261;\n",
      "Iteration: 40; Train loss: 0.06395879668794426; Validation loss: 0.06397591447633694;\n"
     ]
    },
    {
     "ename": "KeyboardInterrupt",
     "evalue": "",
     "output_type": "error",
     "traceback": [
      "\u001b[0;31m---------------------------------------------------------------------------\u001b[0m",
      "\u001b[0;31mKeyboardInterrupt\u001b[0m                         Traceback (most recent call last)",
      "\u001b[0;32m<ipython-input-6-7345dfc77345>\u001b[0m in \u001b[0;36m<module>\u001b[0;34m\u001b[0m\n\u001b[1;32m     33\u001b[0m \u001b[0;31m# Tahh -> Sigmoid ~100\u001b[0m\u001b[0;34m\u001b[0m\u001b[0;34m\u001b[0m\u001b[0;34m\u001b[0m\u001b[0m\n\u001b[1;32m     34\u001b[0m \u001b[0;34m\u001b[0m\u001b[0m\n\u001b[0;32m---> 35\u001b[0;31m net.fit(X_train, X_train, X_test, X_test, layers, \n\u001b[0m\u001b[1;32m     36\u001b[0m         max_iterations=500, batch_size=4096, learning_rate=0.01, output_each_iter=10)\n",
      "\u001b[0;32m~/root/Studying/University/4_Senior_year/DNN-Inverse-Problems/Program/autoencoder/neuralnet.py\u001b[0m in \u001b[0;36mfit\u001b[0;34m(self, X, Y, X_test, Y_test, layers, max_iterations, batch_size, learning_rate, output_each_iter)\u001b[0m\n\u001b[1;32m    122\u001b[0m                 \u001b[0mself\u001b[0m\u001b[0;34m.\u001b[0m\u001b[0mupdate_params\u001b[0m\u001b[0;34m(\u001b[0m\u001b[0mparam_grads\u001b[0m\u001b[0;34m)\u001b[0m\u001b[0;34m\u001b[0m\u001b[0;34m\u001b[0m\u001b[0m\n\u001b[1;32m    123\u001b[0m \u001b[0;34m\u001b[0m\u001b[0m\n\u001b[0;32m--> 124\u001b[0;31m             \u001b[0mactivations\u001b[0m \u001b[0;34m=\u001b[0m \u001b[0mself\u001b[0m\u001b[0;34m.\u001b[0m\u001b[0mforward_step\u001b[0m\u001b[0;34m(\u001b[0m\u001b[0mX\u001b[0m\u001b[0;34m)\u001b[0m\u001b[0;34m\u001b[0m\u001b[0;34m\u001b[0m\u001b[0m\n\u001b[0m\u001b[1;32m    125\u001b[0m             \u001b[0mtrain_cost\u001b[0m \u001b[0;34m=\u001b[0m \u001b[0mlayers\u001b[0m\u001b[0;34m[\u001b[0m\u001b[0;34m-\u001b[0m\u001b[0;36m1\u001b[0m\u001b[0;34m]\u001b[0m\u001b[0;34m.\u001b[0m\u001b[0mget_cost\u001b[0m\u001b[0;34m(\u001b[0m\u001b[0mactivations\u001b[0m\u001b[0;34m[\u001b[0m\u001b[0;34m-\u001b[0m\u001b[0;36m1\u001b[0m\u001b[0;34m]\u001b[0m\u001b[0;34m,\u001b[0m \u001b[0mX\u001b[0m\u001b[0;34m)\u001b[0m\u001b[0;34m\u001b[0m\u001b[0;34m\u001b[0m\u001b[0m\n\u001b[1;32m    126\u001b[0m             \u001b[0mself\u001b[0m\u001b[0;34m.\u001b[0m\u001b[0mtrain_costs\u001b[0m\u001b[0;34m.\u001b[0m\u001b[0mappend\u001b[0m\u001b[0;34m(\u001b[0m\u001b[0mtrain_cost\u001b[0m\u001b[0;34m)\u001b[0m\u001b[0;34m\u001b[0m\u001b[0;34m\u001b[0m\u001b[0m\n",
      "\u001b[0;32m~/root/Studying/University/4_Senior_year/DNN-Inverse-Problems/Program/autoencoder/neuralnet.py\u001b[0m in \u001b[0;36mforward_step\u001b[0;34m(self, input_samples)\u001b[0m\n\u001b[1;32m     29\u001b[0m         \u001b[0;32mfor\u001b[0m \u001b[0mlayer\u001b[0m \u001b[0;32min\u001b[0m \u001b[0mself\u001b[0m\u001b[0;34m.\u001b[0m\u001b[0mlayers\u001b[0m\u001b[0;34m:\u001b[0m\u001b[0;34m\u001b[0m\u001b[0;34m\u001b[0m\u001b[0m\n\u001b[1;32m     30\u001b[0m             \u001b[0;31m# Get the output of the current layer\u001b[0m\u001b[0;34m\u001b[0m\u001b[0;34m\u001b[0m\u001b[0;34m\u001b[0m\u001b[0m\n\u001b[0;32m---> 31\u001b[0;31m             \u001b[0mY\u001b[0m \u001b[0;34m=\u001b[0m \u001b[0mlayer\u001b[0m\u001b[0;34m.\u001b[0m\u001b[0mget_output\u001b[0m\u001b[0;34m(\u001b[0m\u001b[0mX\u001b[0m\u001b[0;34m)\u001b[0m\u001b[0;34m\u001b[0m\u001b[0;34m\u001b[0m\u001b[0m\n\u001b[0m\u001b[1;32m     32\u001b[0m             \u001b[0;31m# Store the output for future processing\u001b[0m\u001b[0;34m\u001b[0m\u001b[0;34m\u001b[0m\u001b[0;34m\u001b[0m\u001b[0m\n\u001b[1;32m     33\u001b[0m             \u001b[0mactivations\u001b[0m\u001b[0;34m.\u001b[0m\u001b[0mappend\u001b[0m\u001b[0;34m(\u001b[0m\u001b[0mY\u001b[0m\u001b[0;34m)\u001b[0m\u001b[0;34m\u001b[0m\u001b[0;34m\u001b[0m\u001b[0m\n",
      "\u001b[0;32m~/root/Studying/University/4_Senior_year/DNN-Inverse-Problems/Program/autoencoder/layers.py\u001b[0m in \u001b[0;36mget_output\u001b[0;34m(self, X)\u001b[0m\n\u001b[1;32m     77\u001b[0m     \u001b[0;32mdef\u001b[0m \u001b[0mget_output\u001b[0m\u001b[0;34m(\u001b[0m\u001b[0mself\u001b[0m\u001b[0;34m,\u001b[0m \u001b[0mX\u001b[0m\u001b[0;34m)\u001b[0m\u001b[0;34m:\u001b[0m\u001b[0;34m\u001b[0m\u001b[0;34m\u001b[0m\u001b[0m\n\u001b[1;32m     78\u001b[0m         \u001b[0;34m\"\"\"Perform the forward step transformation.\"\"\"\u001b[0m\u001b[0;34m\u001b[0m\u001b[0;34m\u001b[0m\u001b[0m\n\u001b[0;32m---> 79\u001b[0;31m         \u001b[0;32mreturn\u001b[0m \u001b[0mactivations\u001b[0m\u001b[0;34m.\u001b[0m\u001b[0mtanh\u001b[0m\u001b[0;34m(\u001b[0m\u001b[0mX\u001b[0m\u001b[0;34m)\u001b[0m\u001b[0;34m\u001b[0m\u001b[0;34m\u001b[0m\u001b[0m\n\u001b[0m\u001b[1;32m     80\u001b[0m \u001b[0;34m\u001b[0m\u001b[0m\n\u001b[1;32m     81\u001b[0m     \u001b[0;32mdef\u001b[0m \u001b[0mget_input_grad\u001b[0m\u001b[0;34m(\u001b[0m\u001b[0mself\u001b[0m\u001b[0;34m,\u001b[0m \u001b[0mY\u001b[0m\u001b[0;34m,\u001b[0m \u001b[0moutput_grad\u001b[0m\u001b[0;34m)\u001b[0m\u001b[0;34m:\u001b[0m\u001b[0;34m\u001b[0m\u001b[0;34m\u001b[0m\u001b[0m\n",
      "\u001b[0;31mKeyboardInterrupt\u001b[0m: "
     ]
    }
   ],
   "source": [
    "# Number of neurons in the first hidden-layer\n",
    "hidden_neurons_1 = 16\n",
    "\n",
    "# Number of neurons in the second hidden-layer\n",
    "hidden_neurons_2 = 32\n",
    "\n",
    "# Define a list of layers\n",
    "layers = []\n",
    "\n",
    "layers.append(LinearLayer(X_train.shape[1], hidden_neurons_1))\n",
    "layers.append(TanhLayer())\n",
    "\n",
    "layers.append(LinearLayer(hidden_neurons_1, hidden_neurons_2))\n",
    "layers.append(TanhLayer())\n",
    "\n",
    "layers.append(LinearLayer(hidden_neurons_2, X_train.shape[1]))\n",
    "layers.append(TanhLayer())\n",
    "\n",
    "layers.append(LinearLayer(X_train.shape[1], hidden_neurons_2))\n",
    "layers.append(TanhLayer())\n",
    "\n",
    "layers.append(LinearLayer(hidden_neurons_2, hidden_neurons_1))\n",
    "layers.append(TanhLayer())\n",
    "\n",
    "layers.append(LinearLayer(hidden_neurons_1, X_train.shape[1]))\n",
    "layers.append(TanhLayer())\n",
    "\n",
    "#layers.append(SoftmaxOutputLayer())\n",
    "layers.append(MSEOutputLayer())\n",
    "\n",
    "net = NeuralNetwork()\n",
    "\n",
    "# Tahh -> Sigmoid ~100\n",
    "\n",
    "net.fit(X_train, X_train, X_test, X_test, layers, \n",
    "        max_iterations=500, batch_size=4096, learning_rate=0.01, output_each_iter=10)"
   ]
  },
  {
   "cell_type": "code",
   "execution_count": null,
   "metadata": {},
   "outputs": [],
   "source": [
    "fig, axs_costs = plt.subplots(1, 3, figsize=(15, 5))\n",
    "axs_costs_ = axs_costs.ravel()\n",
    "for i, costs in enumerate(\n",
    "  [net.train_costs, net.val_costs, net.batch_costs]):\n",
    "  axs_costs_[i].plot(costs)"
   ]
  },
  {
   "cell_type": "code",
   "execution_count": null,
   "metadata": {},
   "outputs": [],
   "source": [
    "samples_number = 8\n",
    "samples = X_train[1101:1101+samples_number]\n",
    "autoencoded_samples = net.forward_step(samples)[-1]\n",
    "\n",
    "fig, axs = plt.subplots(2, samples_number, figsize=(20, 5))\n",
    "axs_ = axs.ravel()\n",
    "\n",
    "for i, (ns, ds) in enumerate(zip(samples, autoencoded_samples)):\n",
    "  axs_[i].imshow(ns.reshape(28, 28), cmap=\"gray\")\n",
    "  axs_[(samples_number) + i].imshow(ds.reshape(28, 28), cmap=\"gray\")"
   ]
  },
  {
   "cell_type": "code",
   "execution_count": null,
   "metadata": {},
   "outputs": [],
   "source": [
    "# sample = X_train[20].reshape(1, -1)\n",
    "# noisy_sample = avgn_attack(sample, std=0.5, mean=0.5)\n",
    "# test = noisy_sample.reshape(-1, 1)\n",
    "# test.shape"
   ]
  },
  {
   "cell_type": "code",
   "execution_count": null,
   "metadata": {},
   "outputs": [],
   "source": [
    "# plt.imshow(sample.reshape(28, 28), \"gray\")"
   ]
  },
  {
   "cell_type": "code",
   "execution_count": null,
   "metadata": {},
   "outputs": [],
   "source": [
    "# plt.imshow(noisy_sample.reshape(28, 28), \"gray\")"
   ]
  },
  {
   "cell_type": "code",
   "execution_count": null,
   "metadata": {},
   "outputs": [],
   "source": [
    "# a = forward_step(sample, layers)"
   ]
  },
  {
   "cell_type": "code",
   "execution_count": null,
   "metadata": {},
   "outputs": [],
   "source": [
    "# plt.imshow(a[-1].reshape(28, 28), \"gray\")"
   ]
  },
  {
   "cell_type": "code",
   "execution_count": null,
   "metadata": {},
   "outputs": [],
   "source": [
    "# sample"
   ]
  },
  {
   "cell_type": "code",
   "execution_count": null,
   "metadata": {},
   "outputs": [],
   "source": []
  },
  {
   "cell_type": "code",
   "execution_count": null,
   "metadata": {},
   "outputs": [],
   "source": [
    "# class test:\n",
    "#   def __init__(self):\n",
    "#     self.W = np.array([[1, 2], [3, 4], [5, 6]])\n",
    "#     self.b = np.array([11, 22])\n",
    "\n",
    "#   def get_params_iter(self):\n",
    "#       \"\"\"Return an iterator over the parameters.\"\"\"\n",
    "#       return itertools.chain(\n",
    "#           np.nditer(self.W, op_flags=['readwrite']),\n",
    "#           np.nditer(self.b, op_flags=['readwrite']))\n",
    "    \n",
    "#   def get_params_grad(self):\n",
    "#     \"\"\"Return a list of gradients over the parameters.\"\"\"\n",
    "#     return [g for g in itertools.chain(\n",
    "#         np.nditer(self.W), np.nditer(self.b))]\n",
    "  \n",
    "#   def ret_list(self):\n",
    "#     return self.W"
   ]
  }
 ],
 "metadata": {
  "kernelspec": {
   "display_name": "Python 3",
   "language": "python",
   "name": "python3"
  },
  "language_info": {
   "codemirror_mode": {
    "name": "ipython",
    "version": 3
   },
   "file_extension": ".py",
   "mimetype": "text/x-python",
   "name": "python",
   "nbconvert_exporter": "python",
   "pygments_lexer": "ipython3",
   "version": "3.8.2"
  }
 },
 "nbformat": 4,
 "nbformat_minor": 4
}
