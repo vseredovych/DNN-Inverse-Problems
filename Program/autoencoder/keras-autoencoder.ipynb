{
 "cells": [
  {
   "cell_type": "markdown",
   "metadata": {},
   "source": [
    "## '''Trains a denoising autoencoder on MNIST dataset.\n",
    "\n",
    "Denoising is one of the classic applications of autoencoders.\n",
    "The denoising process removes unwanted noise that corrupted the\n",
    "true data.\n",
    "\n",
    "Noise + Data ---> Denoising Autoencoder ---> Data\n",
    "\n",
    "Given a training dataset of corrupted data as input and\n",
    "true data as output, a denoising autoencoder can recover the\n",
    "hidden structure to generate clean data.\n",
    "\n",
    "This example has modular design. The encoder, decoder and autoencoder\n",
    "are 3 models that share weights. For example, after training the\n",
    "autoencoder, the encoder can be used to  generate latent vectors\n",
    "of input data for low-dim visualization like PCA or TSNE.\n",
    "'''"
   ]
  },
  {
   "cell_type": "code",
   "execution_count": 1,
   "metadata": {},
   "outputs": [],
   "source": [
    "\n",
    "from tensorflow.keras.layers import Dense, Input\n",
    "from tensorflow.keras.layers import Conv2D, Flatten\n",
    "from tensorflow.keras.layers import Reshape, Conv2DTranspose\n",
    "from tensorflow.keras.models import Model\n",
    "from tensorflow.keras import backend as K\n",
    "from tensorflow.keras.datasets import mnist\n",
    "import numpy as np\n",
    "import matplotlib.pyplot as plt\n",
    "from PIL import Image\n",
    "\n",
    "np.random.seed(43)"
   ]
  },
  {
   "cell_type": "code",
   "execution_count": 2,
   "metadata": {},
   "outputs": [],
   "source": [
    "# load MNIST dataset\n",
    "(x_train, _), (x_test, _) = mnist.load_data()\n",
    "\n",
    "# reshape to (28, 28, 1) and normalize input images\n",
    "image_size = x_train.shape[1]\n",
    "x_train = np.reshape(x_train, [-1, image_size, image_size, 1])\n",
    "x_test = np.reshape(x_test, [-1, image_size, image_size, 1])\n",
    "\n",
    "x_train = x_train.astype('float32') / 255\n",
    "x_test = x_test.astype('float32') / 255"
   ]
  },
  {
   "cell_type": "code",
   "execution_count": 3,
   "metadata": {},
   "outputs": [],
   "source": [
    "# generate corrupted MNIST images by adding noise with normal dist\n",
    "# centered at 0.5 and std=0.5\n",
    "noise = np.random.normal(loc=0.5, scale=0.5, size=x_train.shape)\n",
    "x_train_noisy = x_train + noise\n",
    "noise = np.random.normal(loc=0.5, scale=0.5, size=x_test.shape)\n",
    "x_test_noisy = x_test + noise\n",
    "\n",
    "# adding noise may exceed normalized pixel values>1.0 or <0.0\n",
    "# clip pixel values >1.0 to 1.0 and <0.0 to 0.0\n",
    "x_train_noisy = np.clip(x_train_noisy, 0., 1.)\n",
    "x_test_noisy = np.clip(x_test_noisy, 0., 1.)\n",
    "\n",
    "# network parameters\n",
    "input_shape = (image_size, image_size, 1)\n",
    "batch_size = 1024\n",
    "kernel_size = 3\n",
    "latent_dim = 16"
   ]
  },
  {
   "cell_type": "code",
   "execution_count": 4,
   "metadata": {},
   "outputs": [
    {
     "name": "stdout",
     "output_type": "stream",
     "text": [
      "Model: \"encoder\"\n",
      "_________________________________________________________________\n",
      "Layer (type)                 Output Shape              Param #   \n",
      "=================================================================\n",
      "encoder_input (InputLayer)   [(None, 28, 28, 1)]       0         \n",
      "_________________________________________________________________\n",
      "conv2d (Conv2D)              (None, 14, 14, 32)        320       \n",
      "_________________________________________________________________\n",
      "flatten (Flatten)            (None, 6272)              0         \n",
      "_________________________________________________________________\n",
      "latent_vector (Dense)        (None, 16)                100368    \n",
      "=================================================================\n",
      "Total params: 100,688\n",
      "Trainable params: 100,688\n",
      "Non-trainable params: 0\n",
      "_________________________________________________________________\n",
      "Model: \"decoder\"\n",
      "_________________________________________________________________\n",
      "Layer (type)                 Output Shape              Param #   \n",
      "=================================================================\n",
      "decoder_input (InputLayer)   [(None, 16)]              0         \n",
      "_________________________________________________________________\n",
      "dense (Dense)                (None, 6272)              106624    \n",
      "_________________________________________________________________\n",
      "reshape (Reshape)            (None, 14, 14, 32)        0         \n",
      "_________________________________________________________________\n",
      "conv2d_transpose (Conv2DTran (None, 28, 28, 32)        9248      \n",
      "_________________________________________________________________\n",
      "decoder_output (Conv2DTransp (None, 28, 28, 1)         289       \n",
      "=================================================================\n",
      "Total params: 116,161\n",
      "Trainable params: 116,161\n",
      "Non-trainable params: 0\n",
      "_________________________________________________________________\n",
      "Model: \"autoencoder\"\n",
      "_________________________________________________________________\n",
      "Layer (type)                 Output Shape              Param #   \n",
      "=================================================================\n",
      "encoder_input (InputLayer)   [(None, 28, 28, 1)]       0         \n",
      "_________________________________________________________________\n",
      "encoder (Functional)         (None, 16)                100688    \n",
      "_________________________________________________________________\n",
      "decoder (Functional)         (None, 28, 28, 1)         116161    \n",
      "=================================================================\n",
      "Total params: 216,849\n",
      "Trainable params: 216,849\n",
      "Non-trainable params: 0\n",
      "_________________________________________________________________\n"
     ]
    }
   ],
   "source": [
    "# encoder/decoder number of CNN layers and filters per layer\n",
    "layer_filters = [32]\n",
    "\n",
    "# build the autoencoder model\n",
    "# first build the encoder model\n",
    "inputs = Input(shape=input_shape, name='encoder_input')\n",
    "x = inputs\n",
    "\n",
    "# stack of Conv2D(32)-Conv2D(64)\n",
    "for filters in layer_filters:\n",
    "    x = Conv2D(filters=filters,\n",
    "               kernel_size=kernel_size,\n",
    "               strides=2,\n",
    "               activation='relu',\n",
    "               padding='same')(x)\n",
    "\n",
    "# shape info needed to build decoder model so we don't do hand computation\n",
    "# the input to the decoder's first Conv2DTranspose will have this shape\n",
    "# shape is (7, 7, 64) which can be processed by the decoder back to (28, 28, 1)\n",
    "shape = K.int_shape(x)\n",
    "\n",
    "# generate the latent vector\n",
    "x = Flatten()(x)\n",
    "latent = Dense(latent_dim, name='latent_vector')(x)\n",
    "\n",
    "# instantiate encoder model\n",
    "encoder = Model(inputs, latent, name='encoder')\n",
    "encoder.summary()\n",
    "\n",
    "# build the decoder model\n",
    "latent_inputs = Input(shape=(latent_dim,), name='decoder_input')\n",
    "# use the shape (7, 7, 64) that was earlier saved\n",
    "x = Dense(shape[1] * shape[2] * shape[3])(latent_inputs)\n",
    "# from vector to suitable shape for transposed conv\n",
    "x = Reshape((shape[1], shape[2], shape[3]))(x)\n",
    "\n",
    "# stack of Conv2DTranspose(64)-Conv2DTranspose(32)\n",
    "for filters in layer_filters[::-1]:\n",
    "    x = Conv2DTranspose(filters=filters,\n",
    "                        kernel_size=kernel_size,\n",
    "                        strides=2,\n",
    "                        activation='relu',\n",
    "                        padding='same')(x)\n",
    "\n",
    "# reconstruct the denoised input\n",
    "outputs = Conv2DTranspose(filters=1,\n",
    "                          kernel_size=kernel_size,\n",
    "                          padding='same',\n",
    "                          activation='sigmoid',\n",
    "                          name='decoder_output')(x)\n",
    "\n",
    "# instantiate decoder model\n",
    "decoder = Model(latent_inputs, outputs, name='decoder')\n",
    "decoder.summary()\n",
    "\n",
    "# autoencoder = encoder + decoder\n",
    "# instantiate autoencoder model\n",
    "autoencoder = Model(inputs, decoder(encoder(inputs)), name='autoencoder')\n",
    "autoencoder.summary()"
   ]
  },
  {
   "cell_type": "code",
   "execution_count": 5,
   "metadata": {},
   "outputs": [
    {
     "name": "stdout",
     "output_type": "stream",
     "text": [
      "Epoch 1/5\n",
      "59/59 [==============================] - 25s 414ms/step - loss: 0.1288 - val_loss: 0.0694\n",
      "Epoch 2/5\n",
      "59/59 [==============================] - 24s 415ms/step - loss: 0.0689 - val_loss: 0.0682\n",
      "Epoch 3/5\n",
      "59/59 [==============================] - 21s 354ms/step - loss: 0.0678 - val_loss: 0.0678\n",
      "Epoch 4/5\n",
      "59/59 [==============================] - 21s 350ms/step - loss: 0.0674 - val_loss: 0.0662\n",
      "Epoch 5/5\n",
      "59/59 [==============================] - 21s 361ms/step - loss: 0.0637 - val_loss: 0.0530\n"
     ]
    },
    {
     "data": {
      "text/plain": [
       "<tensorflow.python.keras.callbacks.History at 0x13c44dd30>"
      ]
     },
     "execution_count": 5,
     "metadata": {},
     "output_type": "execute_result"
    }
   ],
   "source": [
    "# Mean Square Error (MSE) loss function, Adam optimizer\n",
    "autoencoder.compile(loss='mse', optimizer='adam')\n",
    "\n",
    "# train the autoencoder\n",
    "autoencoder.fit(x_train_noisy,\n",
    "            x_train,\n",
    "            validation_data=(x_test_noisy, x_test),\n",
    "            epochs=5,\n",
    "            batch_size=batch_size)"
   ]
  },
  {
   "cell_type": "code",
   "execution_count": 6,
   "metadata": {},
   "outputs": [],
   "source": [
    "# predict the autoencoder output from corrupted test images\n",
    "x_decoded = autoencoder.predict(x_test_noisy)"
   ]
  },
  {
   "cell_type": "code",
   "execution_count": 7,
   "metadata": {},
   "outputs": [],
   "source": [
    "# # Mean Square Error (MSE) loss function, Adam optimizer\n",
    "# autoencoder.compile(loss='mse', optimizer='adam')\n",
    "\n",
    "# # train the autoencoder\n",
    "# autoencoder.fit(x_train_noisy,\n",
    "#                 x_train,\n",
    "#                 validation_data=(x_test_noisy, x_test),\n",
    "#                 epochs=5,\n",
    "#                 batch_size=batch_size)\n",
    "\n",
    "# # predict the autoencoder output from corrupted test images\n",
    "# x_decoded = autoencoder.predict(x_test_noisy)"
   ]
  },
  {
   "cell_type": "code",
   "execution_count": 8,
   "metadata": {},
   "outputs": [
    {
     "data": {
      "image/png": "[encoded data removed]",
      "text/plain": [
       "<Figure size 432x1728 with 10 Axes>"
      ]
     },
     "metadata": {
      "needs_background": "light"
     },
     "output_type": "display_data"
    }
   ],
   "source": [
    "# use the convolutional autoencoder to make predictions on the\n",
    "# testing images, then initialize our list of output images\n",
    "denoised_samples_number = 5\n",
    "noisy_samples = x_test_noisy[0:denoised_samples_number]\n",
    "denoised_samples = autoencoder.predict(noisy_samples)\n",
    "\n",
    "fig, axs = plt.subplots(denoised_samples_number, 2, figsize=(6, 24))\n",
    "axs_ = axs.ravel()\n",
    "\n",
    "for i, (ns, ds) in enumerate(zip(noisy_samples, denoised_samples)):\n",
    "  axs_[2*i].imshow(ns, cmap=\"gray\")\n",
    "  axs_[2*i + 1].imshow(ds, cmap=\"gray\")"
   ]
  },
  {
   "cell_type": "code",
   "execution_count": 9,
   "metadata": {},
   "outputs": [],
   "source": [
    "# # 3 sets of images with 9 MNIST digits\n",
    "# # 1st rows - original images\n",
    "# # 2nd rows - images corrupted by noise\n",
    "# # 3rd rows - denoised images\n",
    "# rows, cols = 3, 9\n",
    "# num = rows * cols\n",
    "# imgs = np.concatenate([x_test[:num], x_test_noisy[:num], x_decoded[:num]])\n",
    "# imgs = imgs.reshape((rows * 3, cols, image_size, image_size))\n",
    "# imgs = np.vstack(np.split(imgs, rows, axis=1))\n",
    "# imgs = imgs.reshape((rows * 3, -1, image_size, image_size))\n",
    "# imgs = np.vstack([np.hstack(i) for i in imgs])\n",
    "# imgs = (imgs * 255).astype(np.uint8)\n",
    "# plt.figure()\n",
    "# plt.axis('off')\n",
    "# plt.title('Original images: top rows, '\n",
    "#           'Corrupted Input: middle rows, '\n",
    "#           'Denoised Input:  third rows')\n",
    "# plt.imshow(imgs, interpolation='none', cmap='gray')\n",
    "# Image.fromarray(imgs).save('corrupted_and_denoised.png')\n",
    "# plt.show()\n"
   ]
  },
  {
   "cell_type": "code",
   "execution_count": null,
   "metadata": {},
   "outputs": [],
   "source": []
  },
  {
   "cell_type": "code",
   "execution_count": null,
   "metadata": {},
   "outputs": [],
   "source": []
  },
  {
   "cell_type": "code",
   "execution_count": null,
   "metadata": {},
   "outputs": [],
   "source": []
  },
  {
   "cell_type": "code",
   "execution_count": null,
   "metadata": {},
   "outputs": [],
   "source": []
  },
  {
   "cell_type": "code",
   "execution_count": null,
   "metadata": {},
   "outputs": [],
   "source": []
  }
 ],
 "metadata": {
  "kernelspec": {
   "display_name": "Python 3",
   "language": "python",
   "name": "python3"
  },
  "language_info": {
   "codemirror_mode": {
    "name": "ipython",
    "version": 3
   },
   "file_extension": ".py",
   "mimetype": "text/x-python",
   "name": "python",
   "nbconvert_exporter": "python",
   "pygments_lexer": "ipython3",
   "version": "3.8.2"
  }
 },
 "nbformat": 4,
 "nbformat_minor": 4
}
