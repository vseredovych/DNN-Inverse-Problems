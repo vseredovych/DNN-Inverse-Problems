{
 "cells": [
  {
   "cell_type": "code",
   "execution_count": 1,
   "metadata": {},
   "outputs": [],
   "source": [
    "import numpy as np\n",
    "import matplotlib.pyplot as plt"
   ]
  },
  {
   "cell_type": "code",
   "execution_count": 5,
   "metadata": {},
   "outputs": [],
   "source": [
    "from utils import convmtx"
   ]
  },
  {
   "cell_type": "code",
   "execution_count": 6,
   "metadata": {},
   "outputs": [],
   "source": [
    "from scipy.ndimage import convolve"
   ]
  },
  {
   "cell_type": "code",
   "execution_count": 7,
   "metadata": {},
   "outputs": [
    {
     "name": "stdout",
     "output_type": "stream",
     "text": [
      "(10, 16)\n",
      "16\n"
     ]
    },
    {
     "data": {
      "text/plain": [
       "[<matplotlib.lines.Line2D at 0x11f9fcee0>]"
      ]
     },
     "execution_count": 7,
     "metadata": {},
     "output_type": "execute_result"
    },
    {
     "data": {
      "image/png": "[encoded data removed]",
      "text/plain": [
       "<Figure size 432x288 with 1 Axes>"
      ]
     },
     "metadata": {
      "needs_background": "light"
     },
     "output_type": "display_data"
    }
   ],
   "source": [
    "fsize = 16;\n",
    "lwidth = 2;\n",
    "\n",
    "# Build a Point Spread Function (PSF)\n",
    "M = 3;\n",
    "\n",
    "# This makes sure psf has a unique centre\n",
    "psf = np.ones((2*M+1));\n",
    "# Normalization of the psf\n",
    "psf = psf/np.sum(psf);\n",
    "\n",
    "# Construct \"unknown signal\" f\n",
    "N = 10;\n",
    "f = np.zeros([N,1]);\n",
    "f[0:int(N/2)] = 1;\n",
    "\n",
    "# Construct the convolution matrix\n",
    "A = convmtx(psf,N);\n",
    "print(A.shape)\n",
    "\n",
    "print(A.shape[1])\n",
    "\n",
    "A = A[:, M:(A.shape[1] - M)];\n",
    "\n",
    "# Simulate the \"measurement\"\n",
    "m = A@f;\n",
    "\n",
    "plt.plot(f, \"r\")\n",
    "plt.plot(m, \"b\")\n",
    "# % Simulate \"noisy measurement\"\n",
    "# sigma = .01;\n",
    "# mn = A*f + sigma*randn(N,1);\n",
    "\n",
    "# % Perform naive inversion\n",
    "# %f0 = inv(A)*m;\n",
    "# %fn = inv(A)*mn;\n",
    "# f0 = pinv(A)*m;\n",
    "# fn = pinv(A)*mn;\n",
    "# %f0 = A\\m;\n",
    "\n",
    "# % Take a look\n",
    "# figure(1)\n",
    "# clf\n",
    "# subplot(3,1,1)\n",
    "# plot(f,'k','linewidth',lwidth)\n",
    "# hold on\n",
    "# plot(mn,'r','linewidth',lwidth)\n",
    "# set(gca,'ytick',[0 max(f)],'fontsize',fsize)\n",
    "# subplot(3,1,2)\n",
    "# plot(f,'k','linewidth',lwidth)\n",
    "# hold on\n",
    "# plot(f0,'b','linewidth',lwidth)\n",
    "# set(gca,'ytick',[0 max(f)],'fontsize',fsize)\n",
    "# subplot(3,1,3)\n",
    "# plot(f,'k','linewidth',lwidth)\n",
    "# hold on\n",
    "# plot(fn,'b','linewidth',lwidth)\n",
    "# set(gca,'ytick',[0 max(f)],'fontsize',fsize)\n",
    "\n"
   ]
  }
 ],
 "metadata": {
  "kernelspec": {
   "display_name": "Python 3",
   "language": "python",
   "name": "python3"
  },
  "language_info": {
   "codemirror_mode": {
    "name": "ipython",
    "version": 3
   },
   "file_extension": ".py",
   "mimetype": "text/x-python",
   "name": "python",
   "nbconvert_exporter": "python",
   "pygments_lexer": "ipython3",
   "version": "3.8.2"
  }
 },
 "nbformat": 4,
 "nbformat_minor": 4
}
